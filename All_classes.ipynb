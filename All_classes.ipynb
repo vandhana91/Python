{
  "nbformat": 4,
  "nbformat_minor": 0,
  "metadata": {
    "colab": {
      "provenance": []
    },
    "kernelspec": {
      "name": "python3",
      "display_name": "Python 3"
    },
    "language_info": {
      "name": "python"
    }
  },
  "cells": [
    {
      "cell_type": "code",
      "execution_count": 16,
      "metadata": {
        "id": "nJ3D2lRjEyCx"
      },
      "outputs": [],
      "source": [
        "#list out the items\n",
        "class All_functions():\n",
        "\n",
        "  def subfields_inAI(l1):\n",
        "\n",
        "    print(\"Sub-fields in AI are:\")\n",
        "    for i in l1:\n",
        "      print(i)\n",
        "  def odd_even():\n",
        "    number = int(input(\"Enter a number\"))\n",
        "    if number % 2 == 0:\n",
        "      print (number,\"is Even\")\n",
        "      num_type = 'even'\n",
        "    else:\n",
        "      print(number,\" is odd\")\n",
        "      num_type = 'odd'\n",
        "    return num_type\n",
        "  #marriage eligibility\n",
        "  def marriage_eligible():\n",
        "    age = int(input(\"Enter your age : \"))\n",
        "    gender = input(\"Enter your gender : \")\n",
        "    if (gender == 'male' and age< 21) or (gender == 'female' and age< 18):\n",
        "      print(\"Not Eligible\")\n",
        "    else:\n",
        "      print(\"Eligible\")\n",
        "  #find percent\n",
        "  def percent(s1,s2,s3,s4,s5):\n",
        "    total = s1+s2+s3+s4+s5\n",
        "    percent = total/500 * 100\n",
        "    return percent\n",
        "  def triangle(h,b,h1,h2,b1):\n",
        "    area = (h * b)/2\n",
        "    perimeter = h1 + h2 + b1\n",
        "    print(\"Area of triangle is\",area)\n",
        "    print(\"permimeter of triangle is\",perimeter)\n",
        "    return area,perimeter"
      ]
    },
    {
      "cell_type": "code",
      "source": [
        "list1 = ['Machine Learning','Neural Networks','Vision','Robotics','Speech Processing','Natural Language Processing']\n",
        "All_functions.subfields_inAI(list1)"
      ],
      "metadata": {
        "colab": {
          "base_uri": "https://localhost:8080/"
        },
        "id": "cmjNC6RsFxg-",
        "outputId": "195d3318-3f04-44ca-f5b0-708900e1b0b8"
      },
      "execution_count": 18,
      "outputs": [
        {
          "output_type": "stream",
          "name": "stdout",
          "text": [
            "Sub-fields in AI are:\n",
            "Machine Learning\n",
            "Neural Networks\n",
            "Vision\n",
            "Robotics\n",
            "Speech Processing\n",
            "Natural Language Processing\n"
          ]
        }
      ]
    },
    {
      "cell_type": "code",
      "source": [
        "All_functions.marriage_eligible()"
      ],
      "metadata": {
        "colab": {
          "base_uri": "https://localhost:8080/"
        },
        "id": "p7f4gNyXY1zb",
        "outputId": "7fd1cd9d-9f93-4c02-cbf1-81bf3ff47e2b"
      },
      "execution_count": 19,
      "outputs": [
        {
          "output_type": "stream",
          "name": "stdout",
          "text": [
            "Enter your age : 22\n",
            "Enter your gender : male\n",
            "Eligible\n"
          ]
        }
      ]
    },
    {
      "cell_type": "code",
      "source": [
        "All_functions.percent(98,87,95,95,93)"
      ],
      "metadata": {
        "colab": {
          "base_uri": "https://localhost:8080/"
        },
        "id": "hPee9cRBeCgo",
        "outputId": "39553028-a29e-4aec-c006-d5cf1a2e54e3"
      },
      "execution_count": 20,
      "outputs": [
        {
          "output_type": "execute_result",
          "data": {
            "text/plain": [
              "93.60000000000001"
            ]
          },
          "metadata": {},
          "execution_count": 20
        }
      ]
    },
    {
      "cell_type": "code",
      "source": [
        "All_functions.odd_even()"
      ],
      "metadata": {
        "colab": {
          "base_uri": "https://localhost:8080/",
          "height": 70
        },
        "id": "wHP2pgNKeGIP",
        "outputId": "c8720ef9-c1f1-44b9-de46-f98071a3f229"
      },
      "execution_count": 21,
      "outputs": [
        {
          "output_type": "stream",
          "name": "stdout",
          "text": [
            "Enter a number5\n",
            "5  is odd\n"
          ]
        },
        {
          "output_type": "execute_result",
          "data": {
            "text/plain": [
              "'odd'"
            ],
            "application/vnd.google.colaboratory.intrinsic+json": {
              "type": "string"
            }
          },
          "metadata": {},
          "execution_count": 21
        }
      ]
    },
    {
      "cell_type": "code",
      "source": [
        "All_functions.triangle(32,34,2,4,4)"
      ],
      "metadata": {
        "colab": {
          "base_uri": "https://localhost:8080/"
        },
        "id": "zyxDzQo9eH5d",
        "outputId": "fad41fbc-69bc-4c88-acfe-2434867d20e0"
      },
      "execution_count": 22,
      "outputs": [
        {
          "output_type": "stream",
          "name": "stdout",
          "text": [
            "Area of triangle is 544.0\n",
            "permimeter of triangle is 10\n"
          ]
        },
        {
          "output_type": "execute_result",
          "data": {
            "text/plain": [
              "(544.0, 10)"
            ]
          },
          "metadata": {},
          "execution_count": 22
        }
      ]
    },
    {
      "cell_type": "code",
      "source": [],
      "metadata": {
        "id": "WLNrAz5SeKoL"
      },
      "execution_count": null,
      "outputs": []
    }
  ]
}