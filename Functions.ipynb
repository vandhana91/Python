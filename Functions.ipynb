{
  "nbformat": 4,
  "nbformat_minor": 0,
  "metadata": {
    "colab": {
      "provenance": []
    },
    "kernelspec": {
      "name": "python3",
      "display_name": "Python 3"
    },
    "language_info": {
      "name": "python"
    }
  },
  "cells": [
    {
      "cell_type": "code",
      "execution_count": 14,
      "metadata": {
        "id": "LcAP0o0aGsao"
      },
      "outputs": [],
      "source": [
        "#list out the items\n",
        "list1 = ['Machine Learning','Neural Networks','Vision','Robotics','Speech Processing','Natural Language Processing']\n",
        "def subfields_inAI():\n",
        "  print(\"Sub-fields in AI are:\")\n",
        "  for i in list1:\n",
        "    print(i)\n",
        ""
      ]
    },
    {
      "cell_type": "code",
      "source": [
        "subfields_inAI()"
      ],
      "metadata": {
        "colab": {
          "base_uri": "https://localhost:8080/"
        },
        "id": "GcQdoK3uPnTJ",
        "outputId": "e16bf08c-15c5-4e1d-cfed-70f7d84fa8fb"
      },
      "execution_count": 15,
      "outputs": [
        {
          "output_type": "stream",
          "name": "stdout",
          "text": [
            "Sub-fields in AI are:\n",
            "Machine Learning\n",
            "Neural Networks\n",
            "Vision\n",
            "Robotics\n",
            "Speech Processing\n",
            "Natural Language Processing\n"
          ]
        }
      ]
    },
    {
      "cell_type": "code",
      "source": [
        "#odd or even\n",
        "def odd_even():\n",
        "  number = int(input(\"Enter a number\"))\n",
        "  if number % 2 == 0:\n",
        "    print (number,\"is Even\")\n",
        "    num_type = 'even'\n",
        "  else:\n",
        "    print(number,\" is odd\")\n",
        "    num_type = 'odd'\n",
        "  return num_type"
      ],
      "metadata": {
        "id": "avOKzkgZHPOZ"
      },
      "execution_count": 5,
      "outputs": []
    },
    {
      "cell_type": "code",
      "source": [
        "odd_even()"
      ],
      "metadata": {
        "colab": {
          "base_uri": "https://localhost:8080/",
          "height": 70
        },
        "id": "W2BQTUIIHT48",
        "outputId": "3db2ba6f-802e-4cf3-ba8e-592003a0fb2b"
      },
      "execution_count": 6,
      "outputs": [
        {
          "output_type": "stream",
          "name": "stdout",
          "text": [
            "Enter a number7\n",
            "7  is odd\n"
          ]
        },
        {
          "output_type": "execute_result",
          "data": {
            "text/plain": [
              "'odd'"
            ],
            "application/vnd.google.colaboratory.intrinsic+json": {
              "type": "string"
            }
          },
          "metadata": {},
          "execution_count": 6
        }
      ]
    },
    {
      "cell_type": "code",
      "source": [
        "#marriage eligibility\n",
        "def marriage_eligible():\n",
        "  age = int(input(\"Enter your age : \"))\n",
        "  gender = input(\"Enter your gender : \")\n",
        "  if (gender == 'male' and age< 21) or (gender == 'female' and age< 18):\n",
        "    print(\"Not Eligible\")\n",
        "  else:\n",
        "    print(\"Eligible\")"
      ],
      "metadata": {
        "id": "KPBW0IXwIRTi"
      },
      "execution_count": 8,
      "outputs": []
    },
    {
      "cell_type": "code",
      "source": [
        "marriage_eligible()"
      ],
      "metadata": {
        "colab": {
          "base_uri": "https://localhost:8080/"
        },
        "id": "rrL9E-yBKMUv",
        "outputId": "13e2ff31-8225-478b-b330-f4289adac5a7"
      },
      "execution_count": 9,
      "outputs": [
        {
          "output_type": "stream",
          "name": "stdout",
          "text": [
            "Enter your age : 20\n",
            "Enter your gender : male\n",
            "Not Eligible\n"
          ]
        }
      ]
    },
    {
      "cell_type": "code",
      "source": [
        "#find percent\n",
        "def percent(s1,s2,s3,s4,s5):\n",
        "  total = s1+s2+s3+s4+s5\n",
        "  percent = total/500 * 100\n",
        "  return percent"
      ],
      "metadata": {
        "id": "u5bYeFnPK1Ud"
      },
      "execution_count": 10,
      "outputs": []
    },
    {
      "cell_type": "code",
      "source": [
        "percent(98,87,95,95,93)"
      ],
      "metadata": {
        "colab": {
          "base_uri": "https://localhost:8080/"
        },
        "id": "3xBzq0fTL6RR",
        "outputId": "6e36334d-5be2-4445-ff5a-4ecfc3751657"
      },
      "execution_count": 11,
      "outputs": [
        {
          "output_type": "execute_result",
          "data": {
            "text/plain": [
              "93.60000000000001"
            ]
          },
          "metadata": {},
          "execution_count": 11
        }
      ]
    },
    {
      "cell_type": "code",
      "source": [
        "# calculate area and perimeter of triangle\n",
        "def triangle(h,b,h1,h2,b1):\n",
        "  area = (h * b)/2\n",
        "  perimeter = h1 + h2 + b1\n",
        "  print(\"Area of triangle is\",area)\n",
        "  print(\"permimeter of triangle is\",perimeter)\n",
        "  return area,perimeter"
      ],
      "metadata": {
        "id": "VmvTlboAMCT6"
      },
      "execution_count": 12,
      "outputs": []
    },
    {
      "cell_type": "code",
      "source": [
        "triangle(32,34,2,4,4)"
      ],
      "metadata": {
        "colab": {
          "base_uri": "https://localhost:8080/"
        },
        "id": "WgHpfxX-Oizb",
        "outputId": "ce23b17d-7936-404a-a71c-3ba255dfb5f3"
      },
      "execution_count": 13,
      "outputs": [
        {
          "output_type": "stream",
          "name": "stdout",
          "text": [
            "Area of triangle is 544.0\n",
            "permimeter of triangle is 10\n"
          ]
        },
        {
          "output_type": "execute_result",
          "data": {
            "text/plain": [
              "(544.0, 10)"
            ]
          },
          "metadata": {},
          "execution_count": 13
        }
      ]
    },
    {
      "cell_type": "code",
      "source": [],
      "metadata": {
        "id": "-1HNDl6BOokh"
      },
      "execution_count": null,
      "outputs": []
    }
  ]
}