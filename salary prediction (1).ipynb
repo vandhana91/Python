{
  "nbformat": 4,
  "nbformat_minor": 5,
  "metadata": {
    "kernel_info": {
      "name": "python3"
    },
    "kernelspec": {
      "display_name": "Python 3.9",
      "identifier": "legacy",
      "language": "python",
      "language_version": "3.9",
      "name": "python3"
    },
    "selected_hardware_size": "small"
  },
  "cells": [
    {
      "id": "97db31a5",
      "cell_type": "code",
      "metadata": {
        "noteable": {
          "output_collection_id": "e95ec8dd-84fa-4ae5-b32a-92e25f2a0fe5"
        },
        "ExecuteTime": {
          "end_time": "2023-12-03T13:32:01.076115+00:00",
          "start_time": "2023-12-03T13:32:00.891385+00:00"
        },
        "datalink": {
          "e5e7ad45-c86d-4032-8f73-6d76b6affb2d": {
            "applied_filters": [],
            "dataframe_info": {
              "default_index_used": true,
              "orig_num_cols": 2,
              "orig_num_rows": 30,
              "orig_size_bytes": 720,
              "truncated_num_cols": 2,
              "truncated_num_rows": 30,
              "truncated_size_bytes": 720,
              "truncated_string_columns": []
            },
            "display_id": "e5e7ad45-c86d-4032-8f73-6d76b6affb2d",
            "dx_settings": {
              "ALLOW_NOTEABLE_ATTRS": true,
              "COLUMN_SAMPLING_METHOD": "outer",
              "DB_LOCATION": ":memory:",
              "DEV_MODE": false,
              "DISPLAY_MAX_COLUMNS": 100,
              "DISPLAY_MAX_ROWS": 50000,
              "DISPLAY_MODE": "simple",
              "ENABLE_ASSIGNMENT": true,
              "ENABLE_DATALINK": true,
              "FLATTEN_COLUMN_VALUES": true,
              "FLATTEN_INDEX_VALUES": false,
              "GENERATE_DEX_METADATA": false,
              "HTML_TABLE_SCHEMA": false,
              "LOG_LEVEL": 30,
              "MAX_RENDER_SIZE_BYTES": 104857600,
              "MAX_STRING_LENGTH": 250,
              "NUM_PAST_SAMPLES_TRACKED": 3,
              "RANDOM_STATE": 12648430,
              "RESET_INDEX_VALUES": false,
              "ROW_SAMPLING_METHOD": "random",
              "SAMPLING_FACTOR": 0.1,
              "SAMPLING_METHOD": "random",
              "STRINGIFY_COLUMN_VALUES": true,
              "STRINGIFY_INDEX_VALUES": false
            },
            "sample_history": [],
            "sampling_time": "2023-12-03T11:46:59.644079",
            "user_variable_name": "dataset",
            "variable_name": "dataset"
          },
          "05841cfb-c523-4ded-957d-d1a84dcf4e1e": {
            "applied_filters": [],
            "dataframe_info": {
              "default_index_used": true,
              "orig_num_cols": 2,
              "orig_num_rows": 30,
              "orig_size_bytes": 720,
              "truncated_num_cols": 2,
              "truncated_num_rows": 30,
              "truncated_size_bytes": 720,
              "truncated_string_columns": []
            },
            "display_id": "05841cfb-c523-4ded-957d-d1a84dcf4e1e",
            "dx_settings": {
              "ALLOW_NOTEABLE_ATTRS": true,
              "COLUMN_SAMPLING_METHOD": "outer",
              "DB_LOCATION": ":memory:",
              "DEV_MODE": false,
              "DISPLAY_MAX_COLUMNS": 100,
              "DISPLAY_MAX_ROWS": 50000,
              "DISPLAY_MODE": "simple",
              "ENABLE_ASSIGNMENT": true,
              "ENABLE_DATALINK": true,
              "FLATTEN_COLUMN_VALUES": true,
              "FLATTEN_INDEX_VALUES": false,
              "GENERATE_DEX_METADATA": false,
              "HTML_TABLE_SCHEMA": false,
              "LOG_LEVEL": 30,
              "MAX_RENDER_SIZE_BYTES": 104857600,
              "MAX_STRING_LENGTH": 250,
              "NUM_PAST_SAMPLES_TRACKED": 3,
              "RANDOM_STATE": 12648430,
              "RESET_INDEX_VALUES": false,
              "ROW_SAMPLING_METHOD": "random",
              "SAMPLING_FACTOR": 0.1,
              "SAMPLING_METHOD": "random",
              "STRINGIFY_COLUMN_VALUES": true,
              "STRINGIFY_INDEX_VALUES": false
            },
            "sample_history": [],
            "sampling_time": "2023-12-03T13:32:00.912775",
            "user_variable_name": "dataset",
            "variable_name": "dataset"
          }
        }
      },
      "execution_count": null,
      "source": "#library to handle rows and columns\nimport pandas as pd\n#loading the csv data in dataset variable\ndataset = pd.read_csv(\"Salary_Data.csv\")\ndataset",
      "outputs": []
    },
    {
      "id": "dc9ce2a4-77f0-4d51-87ef-83ce13ecadf1",
      "cell_type": "code",
      "metadata": {
        "jupyter": {
          "outputs_hidden": false,
          "source_hidden": false
        },
        "noteable": {
          "cell_type": "code",
          "output_collection_id": "1eaf69f5-cc12-4270-aa2e-8d97eb0c1bb3"
        },
        "ExecuteTime": {
          "end_time": "2023-12-03T13:32:01.698436+00:00",
          "start_time": "2023-12-03T13:32:01.542873+00:00"
        }
      },
      "execution_count": null,
      "source": "#YearsExperience is the independent and is stored in independent variable\nindependent = dataset[[\"YearsExperience\"]]\n#Salary is dependent and it is stored in dependent variable\ndependent = dataset[[\"Salary\"]]",
      "outputs": []
    },
    {
      "id": "99bccd69-fe10-4d00-ab33-dff55c91d4e5",
      "cell_type": "code",
      "metadata": {
        "jupyter": {
          "outputs_hidden": false,
          "source_hidden": false
        },
        "noteable": {
          "cell_type": "code",
          "output_collection_id": "38c757ef-cfbe-4074-bba6-516a6a206baf"
        },
        "ExecuteTime": {
          "end_time": "2023-12-03T13:32:02.080949+00:00",
          "start_time": "2023-12-03T13:32:01.704547+00:00"
        }
      },
      "execution_count": null,
      "source": "#sklearn.model is a library, from that the train_test_split class is imported\nfrom sklearn.model_selection import train_test_split\n#The data is splitted into 4 sections, training[x_train,y_train] and testing[x_test,y_test]\nx_train,x_test,y_train,y_test = train_test_split(independent,dependent,test_size = 0.30,random_state = 0)",
      "outputs": []
    },
    {
      "id": "a0450b7d-830f-414d-9f9e-e99790f18e60",
      "cell_type": "code",
      "metadata": {
        "jupyter": {
          "outputs_hidden": false,
          "source_hidden": false
        },
        "noteable": {
          "cell_type": "code",
          "output_collection_id": "65a770de-f2d5-4255-9040-73c3f99b7975"
        },
        "ExecuteTime": {
          "end_time": "2023-12-03T13:32:02.257005+00:00",
          "start_time": "2023-12-03T13:32:02.086887+00:00"
        }
      },
      "execution_count": null,
      "source": "#LinearRegression is imported\nfrom sklearn.linear_model import LinearRegression\nregressor = LinearRegression()\n#we pass the train dataset in the fit model\nregressor.fit(x_train,y_train)",
      "outputs": []
    },
    {
      "id": "ac6d9ea8-c6c7-4870-94e3-7a1da7b0f242",
      "cell_type": "code",
      "metadata": {
        "jupyter": {
          "outputs_hidden": false,
          "source_hidden": false
        },
        "noteable": {
          "cell_type": "code",
          "output_collection_id": "d24d77d1-7b1e-4e0a-8247-31aec32f6208"
        },
        "ExecuteTime": {
          "end_time": "2023-12-03T13:32:02.533840+00:00",
          "start_time": "2023-12-03T13:32:02.263272+00:00"
        }
      },
      "execution_count": null,
      "source": "#to find the slope we use coef_ method\nweight = regressor.coef_\nweight",
      "outputs": []
    },
    {
      "id": "7994f77f-e85b-49e0-b2d1-1041967b93b2",
      "cell_type": "code",
      "metadata": {
        "jupyter": {
          "outputs_hidden": false,
          "source_hidden": false
        },
        "noteable": {
          "cell_type": "code",
          "output_collection_id": "f32105cf-6064-4f49-8e94-16322e07c5d1"
        },
        "ExecuteTime": {
          "end_time": "2023-12-03T13:32:02.695947+00:00",
          "start_time": "2023-12-03T13:32:02.541002+00:00"
        }
      },
      "execution_count": null,
      "source": "#caluculate the intercept\nbias = regressor.intercept_\nbias",
      "outputs": []
    },
    {
      "id": "f7cbace8-1223-4559-a41d-6c7834b56620",
      "cell_type": "code",
      "metadata": {
        "jupyter": {
          "outputs_hidden": false,
          "source_hidden": false
        },
        "noteable": {
          "cell_type": "code",
          "output_collection_id": "35713227-73b6-4057-8c7a-0743a95ffafd"
        },
        "ExecuteTime": {
          "end_time": "2023-12-03T13:32:02.858540+00:00",
          "start_time": "2023-12-03T13:32:02.702327+00:00"
        }
      },
      "execution_count": null,
      "source": "# we pass the x_test values in the predict method to find the corresponding y values\ny_pred = regressor.predict(x_test)\nprint(y_pred)",
      "outputs": []
    },
    {
      "id": "5f5f7739-2843-4838-833f-e13103ac7b6b",
      "cell_type": "code",
      "metadata": {
        "jupyter": {
          "outputs_hidden": false,
          "source_hidden": false
        },
        "noteable": {
          "cell_type": "code",
          "output_collection_id": "f57b18ef-1c93-42be-a73f-949124ad38d5"
        },
        "ExecuteTime": {
          "end_time": "2023-12-03T13:32:03.018720+00:00",
          "start_time": "2023-12-03T13:32:02.864767+00:00"
        }
      },
      "execution_count": null,
      "source": "#r2_score is imported to check the model is right or not\nfrom sklearn.metrics import r2_score",
      "outputs": []
    },
    {
      "id": "73a4c1e5-2966-4132-a944-7b30de98734b",
      "cell_type": "code",
      "metadata": {
        "jupyter": {
          "outputs_hidden": false,
          "source_hidden": false
        },
        "noteable": {
          "cell_type": "code",
          "output_collection_id": "4b624f7b-fae5-4876-be89-7edcb26d2eca"
        },
        "ExecuteTime": {
          "end_time": "2023-12-03T13:32:03.181234+00:00",
          "start_time": "2023-12-03T13:32:03.025261+00:00"
        }
      },
      "execution_count": null,
      "source": "#in r_score method the actual and the predicted value is passed\nr_score = r2_score(y_test,y_pred)",
      "outputs": []
    },
    {
      "id": "1a6fac3e-3306-4d11-ab7b-64a1a4e84aa9",
      "cell_type": "code",
      "metadata": {
        "jupyter": {
          "outputs_hidden": false,
          "source_hidden": false
        },
        "noteable": {
          "cell_type": "code",
          "output_collection_id": "fe2da932-2085-4dc8-bc3f-0fec5d77c86c"
        },
        "ExecuteTime": {
          "end_time": "2023-12-03T13:32:03.341317+00:00",
          "start_time": "2023-12-03T13:32:03.186726+00:00"
        }
      },
      "execution_count": null,
      "source": "#if r_score is nearing to 1 then the model is effective\nr_score",
      "outputs": []
    },
    {
      "id": "33c61de1-1e43-4e9c-9d81-116fa2d19b7c",
      "cell_type": "code",
      "metadata": {
        "jupyter": {
          "outputs_hidden": false,
          "source_hidden": false
        },
        "noteable": {
          "cell_type": "code",
          "output_collection_id": "2c70c627-c0e5-444c-a87c-4fadf2e270a8"
        },
        "ExecuteTime": {
          "end_time": "2023-12-03T13:32:03.501187+00:00",
          "start_time": "2023-12-03T13:32:03.347293+00:00"
        }
      },
      "execution_count": null,
      "source": "#pickle is used to save the model\nimport pickle",
      "outputs": []
    },
    {
      "id": "306c82ac-94b7-498e-bfc1-dac37cd3b0eb",
      "cell_type": "code",
      "metadata": {
        "jupyter": {
          "outputs_hidden": false,
          "source_hidden": false
        },
        "noteable": {
          "cell_type": "code",
          "output_collection_id": "d01d7cc2-7018-4b5b-b884-d834be2d333f"
        },
        "ExecuteTime": {
          "end_time": "2023-12-03T13:32:03.660161+00:00",
          "start_time": "2023-12-03T13:32:03.506740+00:00"
        }
      },
      "execution_count": null,
      "source": "",
      "outputs": []
    },
    {
      "id": "7fbd558c-52aa-42d3-9af0-5ac47727c153",
      "cell_type": "code",
      "metadata": {
        "jupyter": {
          "outputs_hidden": false,
          "source_hidden": false
        },
        "noteable": {
          "cell_type": "code",
          "output_collection_id": "02d794fd-7ad0-4ad0-a896-20d39a64ef86"
        },
        "ExecuteTime": {
          "end_time": "2023-12-03T13:32:03.819723+00:00",
          "start_time": "2023-12-03T13:32:03.664646+00:00"
        }
      },
      "execution_count": null,
      "source": "",
      "outputs": []
    },
    {
      "id": "73a53d7d-b04c-4014-bda9-fbfa1e5dbee1",
      "cell_type": "code",
      "metadata": {
        "jupyter": {
          "outputs_hidden": false,
          "source_hidden": false
        },
        "noteable": {
          "cell_type": "code",
          "output_collection_id": "477b7da1-1061-478e-abdc-d8b069dd0b75"
        },
        "ExecuteTime": {
          "end_time": "2023-12-03T13:32:03.980249+00:00",
          "start_time": "2023-12-03T13:32:03.824591+00:00"
        }
      },
      "execution_count": null,
      "source": "#we dump the regressor inside the salary_pred\nwith open('salary_pred', 'wb') as files:\n    pickle.dump(regressor, files)",
      "outputs": []
    },
    {
      "id": "2aaab8ec-69e5-4c5c-b376-8a8ccdb48850",
      "cell_type": "code",
      "metadata": {
        "jupyter": {
          "outputs_hidden": false,
          "source_hidden": false
        },
        "noteable": {
          "cell_type": "code",
          "output_collection_id": "fb3f6161-7c3f-4726-873c-ff3fba9df2cb"
        },
        "ExecuteTime": {
          "end_time": "2023-12-03T13:32:04.144180+00:00",
          "start_time": "2023-12-03T13:32:03.986044+00:00"
        }
      },
      "execution_count": null,
      "source": "#again we load the saved file\nwith open('salary_pred' , 'rb') as f:\n    lr = pickle.load(f)\n# check prediction\n\nlr.predict([[15]]) ",
      "outputs": []
    },
    {
      "id": "918d4856-b1c5-4bd6-830b-699c7f27d2d7",
      "cell_type": "code",
      "metadata": {
        "jupyter": {
          "outputs_hidden": false,
          "source_hidden": false
        },
        "noteable": {
          "cell_type": "code"
        }
      },
      "execution_count": null,
      "source": "",
      "outputs": []
    }
  ]
}