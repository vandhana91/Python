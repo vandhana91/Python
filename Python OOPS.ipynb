{
  "metadata": {
    "kernelspec": {
      "name": "python",
      "display_name": "Python (Pyodide)",
      "language": "python"
    },
    "language_info": {
      "codemirror_mode": {
        "name": "python",
        "version": 3
      },
      "file_extension": ".py",
      "mimetype": "text/x-python",
      "name": "python",
      "nbconvert_exporter": "python",
      "pygments_lexer": "ipython3",
      "version": "3.8"
    }
  },
  "nbformat_minor": 4,
  "nbformat": 4,
  "cells": [
    {
      "cell_type": "code",
      "source": "class Student:\n    Name = None\n    English_mark = 0\n    Science_mark = None\n    Social_mark = None\n    Maths_mark = None\n    Computer_mark = None\n\n    def total(self):\n        total = self.English_mark + self.Science_mark + self.Social_mark + self.Maths_mark + self.Computer_mark\n        print('Name - ',self.Name ,'->','Total marks = ',total)\n\nperson1 = Student()\nperson2 = Student()\nperson3 = Student()\nperson4 = Student()\nperson5 = Student()\nperson6 = Student()\nperson7 = Student()\nperson8 = Student()\nperson9 = Student()\nperson10 = Student()\n\n\nperson1.Name = 'Shiva'\nperson1.English_mark = 99\nperson1.Science_mark = 100\nperson1.Social_mark = 98\nperson1.Maths_mark = 100\nperson1.Computer_mark = 98\n\nperson2.Name = 'Ram'\nperson2.English_mark = 94\nperson2.Science_mark = 98\nperson2.Social_mark = 95\nperson2.Maths_mark = 99\nperson2.Computer_mark = 98\n\n\nperson3.Name = 'Kumaran'\nperson3.English_mark = 100\nperson3.Science_mark = 100\nperson3.Social_mark = 99\nperson3.Maths_mark = 100\nperson3.Computer_mark = 100\n\nperson4.Name = 'Abi'\nperson4.English_mark = 96\nperson4.Science_mark = 97\nperson4.Social_mark = 95\nperson4.Maths_mark = 100\nperson4.Computer_mark = 94\n\nperson5.Name = 'Sri'\nperson5.English_mark = 94\nperson5.Science_mark = 93\nperson5.Social_mark = 97\nperson5.Maths_mark = 100\nperson5.Computer_mark = 95\n\nperson6.Name = 'Chandu'\nperson6.English_mark = 90\nperson6.Science_mark = 80\nperson6.Social_mark = 93\nperson6.Maths_mark = 81\nperson6.Computer_mark = 85\n\n\nperson7.Name = 'Kannan'\nperson7.English_mark = 94\nperson7.Science_mark = 90\nperson7.Social_mark = 95\nperson7.Maths_mark = 100\nperson7.Computer_mark = 97\n\nperson8.Name = 'Indra'\nperson8.English_mark = 93\nperson8.Science_mark = 90\nperson8.Social_mark = 83\nperson8.Maths_mark = 92\nperson8.Computer_mark = 81\n\nperson9.Name = 'Bala'\nperson9.English_mark = 93\nperson9.Science_mark = 99\nperson9.Social_mark = 96\nperson9.Maths_mark = 100\nperson9.Computer_mark = 92\n\nperson10.Name = 'Anjan'\nperson10.English_mark = 96\nperson10.Science_mark = 99\nperson10.Social_mark = 100\nperson10.Maths_mark = 91\nperson10.Computer_mark = 94\n\n\nperson1.total()\nperson2.total()\nperson3.total()\nperson4.total()\nperson5.total()\nperson6.total()\nperson7.total()\nperson8.total()\nperson9.total()\nperson10.total()",
      "metadata": {
        "trusted": true
      },
      "outputs": [
        {
          "name": "stdout",
          "text": "Name -  Shiva -> Total marks =  495\nName -  Ram -> Total marks =  484\nName -  Kumaran -> Total marks =  499\nName -  Abi -> Total marks =  482\nName -  Sri -> Total marks =  479\nName -  Chandu -> Total marks =  429\nName -  Kannan -> Total marks =  476\nName -  Indra -> Total marks =  439\nName -  Bala -> Total marks =  480\nName -  Anjan -> Total marks =  480\n",
          "output_type": "stream"
        }
      ],
      "execution_count": 14
    },
    {
      "cell_type": "markdown",
      "source": "# Inheritance",
      "metadata": {}
    },
    {
      "cell_type": "code",
      "source": "class Parent:\n    def drive(self,speed):\n        print('parent is driving at speed of',speed)\n\nclass Child(Parent):\n    def drive(self,speed):\n        super().drive(speed) # Super keyword is used to access parent class method drive\n        print('child is driving at speed of',speed - 30)\n\nchild1 = Child()\nchild1.drive(60)",
      "metadata": {
        "trusted": true
      },
      "outputs": [
        {
          "name": "stdout",
          "text": "parent is driving at speed of 60\nchild is driving at speed of 30\n",
          "output_type": "stream"
        }
      ],
      "execution_count": 9
    },
    {
      "cell_type": "code",
      "source": "class Parent:\n    def __init__(self,networth):  # constructor\n        self.networth = 1000000\n\nclass Child(Parent):\n    def __init__(self,networth):\n        super().__init__(networth)\n        print('child constructor is invoked')\n\nchild1 = Child(100000)\nprint(child1.networth)",
      "metadata": {
        "trusted": true
      },
      "outputs": [
        {
          "name": "stdout",
          "text": "child constructor is invoked\n1000000\n",
          "output_type": "stream"
        }
      ],
      "execution_count": 8
    },
    {
      "cell_type": "code",
      "source": "class Parent:\n    def __init__(self,networth):  # constructor\n        self.networth = 1000000\n\nclass Child(Parent):\n    def __init__(self,networth):\n        super().__init__(networth)\n        print('child constructor is invoked')\n\n    def childnetworth(self):\n        print(self.networth//2)\n\nchild1 = Child(100000)\nprint(child1.networth)\nchild1.childnetworth()",
      "metadata": {
        "trusted": true
      },
      "outputs": [
        {
          "name": "stdout",
          "text": "child constructor is invoked\n1000000\n500000\n",
          "output_type": "stream"
        }
      ],
      "execution_count": 11
    },
    {
      "cell_type": "code",
      "source": "# Encapsulation",
      "metadata": {
        "trusted": true
      },
      "outputs": [],
      "execution_count": 12
    },
    {
      "cell_type": "code",
      "source": "# public - can be accessed outside the class\nclass Employee:\n    def __init__(self,name,salary):\n        self.name = name\n        self.salary = salary\nemp = Employee('ram',1000000)\nprint(emp.name,emp.salary)",
      "metadata": {
        "trusted": true
      },
      "outputs": [
        {
          "name": "stdout",
          "text": "ram 1000000\n",
          "output_type": "stream"
        }
      ],
      "execution_count": 14
    },
    {
      "cell_type": "code",
      "source": "# Private - private members are accessible only within the class\n# private variables start with double underscore __\n\nclass Employee:\n    def __init__(self,name,salary):\n        self.name = name\n        self.__salary = salary\nemp = Employee('ram',1000000)\nprint(emp.name,emp.__salary)",
      "metadata": {
        "trusted": true
      },
      "outputs": [
        {
          "ename": "<class 'AttributeError'>",
          "evalue": "'Employee' object has no attribute '__salary'",
          "traceback": [
            "\u001b[0;31m---------------------------------------------------------------------------\u001b[0m",
            "\u001b[0;31mAttributeError\u001b[0m                            Traceback (most recent call last)",
            "Cell \u001b[0;32mIn[17], line 9\u001b[0m\n\u001b[1;32m      7\u001b[0m         \u001b[38;5;28mself\u001b[39m\u001b[38;5;241m.\u001b[39m__salary \u001b[38;5;241m=\u001b[39m salary\n\u001b[1;32m      8\u001b[0m emp \u001b[38;5;241m=\u001b[39m Employee(\u001b[38;5;124m'\u001b[39m\u001b[38;5;124mram\u001b[39m\u001b[38;5;124m'\u001b[39m,\u001b[38;5;241m1000000\u001b[39m)\n\u001b[0;32m----> 9\u001b[0m \u001b[38;5;28mprint\u001b[39m(emp\u001b[38;5;241m.\u001b[39mname,\u001b[43memp\u001b[49m\u001b[38;5;241;43m.\u001b[39;49m\u001b[43m__salary\u001b[49m)\n",
            "\u001b[0;31mAttributeError\u001b[0m: 'Employee' object has no attribute '__salary'"
          ],
          "output_type": "error"
        }
      ],
      "execution_count": 17
    },
    {
      "cell_type": "code",
      "source": "# private members can be accessed through methods inside the same class\n\nclass Employee:\n    def __init__(self,name,salary):\n        self.name = name\n        self.__salary = salary\n\n    def show(self):\n        print('name :',self.name,'\\n' 'salary :',self.__salary)\n\nemp = Employee('ram',1000000)\nemp.show()",
      "metadata": {
        "trusted": true
      },
      "outputs": [
        {
          "name": "stdout",
          "text": "name : ram \nsalary : 1000000\n",
          "output_type": "stream"
        }
      ],
      "execution_count": 22
    },
    {
      "cell_type": "code",
      "source": "# Name mangling to access private members outside class\n\nclass Employee:\n    def __init__(self,name,salary):\n        self.name = name\n        self.__salary = salary\n\nemp1 = Employee('Sri',100000)\nprint(emp1._Employee__salary) # name mangling - _classname__private variable name",
      "metadata": {
        "trusted": true
      },
      "outputs": [
        {
          "name": "stdout",
          "text": "100000\n",
          "output_type": "stream"
        }
      ],
      "execution_count": 24
    },
    {
      "cell_type": "code",
      "source": "# protected - protected variables start with single underscore _ \n# It can be accessed in own class and sub class\n\nclass Company:\n    def __init__(self):\n        self._project = 'NLP'\n\nclass Employee:\n    def __init__(self,name):\n        self.name = name\n        Company.__init__(self)\n\n    def show(self):\n        print('Employee name :',self.name)\n        print('working on project', self._project)\n\nemp1 = Employee('Sri')\nemp1.show()",
      "metadata": {
        "trusted": true
      },
      "outputs": [
        {
          "name": "stdout",
          "text": "Employee name : Sri\nworking on project NLP\n",
          "output_type": "stream"
        }
      ],
      "execution_count": 28
    },
    {
      "cell_type": "code",
      "source": "# Getter Setter",
      "metadata": {
        "trusted": true
      },
      "outputs": [],
      "execution_count": 29
    },
    {
      "cell_type": "code",
      "source": "class Person:\n    def __init__(self):  # constructor\n        self.__firstname = None\n        self.__lastname = None\n        self.__fullname = None\n    \n    # getter - instead of defining function directly use variable name as function name\n    # @property is used to donote getter\n    @property         \n    def firstname(self):\n        return self.__firstname \n\n    # this is setter , user variablename.setter and pass value to set it\n    @firstname.setter\n    def firstname(self,value):\n        self.__firstname =value\n\n    @property\n    def lastname(self):\n        return self.__lastname \n\n    @lastname.setter\n    def lastname(self,value):\n        self.__lastname =value\n\n    @property\n    def fullname(self):\n        return self.__firstname + ' ' + self.__lastname\n\np = Person()\np.firstname = 'vandhana' # sets the value\np.lastname = 'k s'\nprint(p.fullname)\n        ",
      "metadata": {
        "trusted": true
      },
      "outputs": [
        {
          "name": "stdout",
          "text": "vandhana k s\n",
          "output_type": "stream"
        }
      ],
      "execution_count": 3
    },
    {
      "cell_type": "code",
      "source": "# polymorphism - object behaving in different way",
      "metadata": {
        "trusted": true
      },
      "outputs": [],
      "execution_count": 4
    },
    {
      "cell_type": "code",
      "source": "class Person:\n\n    def __init__(self,name,age):\n        self.name = name\n        self.age = age\n\n    def sleep(self,sleepinghours,start = None,end = None): # start and end are opional\n        if start is not None and end is not None: # if start and end are present , then end - start\n            print('sleeping duration is' , abs(end - start))\n        else:\n            print('sleeping duration is' , sleepinghours)\n\np = Person(name='sri',age =20)\np.sleep(8)\np.sleep(8,20,5)\n        ",
      "metadata": {
        "trusted": true
      },
      "outputs": [
        {
          "name": "stdout",
          "text": "sleeping duration is 8\nsleeping duration is 15\n",
          "output_type": "stream"
        }
      ],
      "execution_count": 8
    },
    {
      "cell_type": "code",
      "source": "",
      "metadata": {
        "trusted": true
      },
      "outputs": [],
      "execution_count": null
    }
  ]
}