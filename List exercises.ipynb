{
  "metadata": {
    "kernelspec": {
      "name": "python",
      "display_name": "Python (Pyodide)",
      "language": "python"
    },
    "language_info": {
      "codemirror_mode": {
        "name": "python",
        "version": 3
      },
      "file_extension": ".py",
      "mimetype": "text/x-python",
      "name": "python",
      "nbconvert_exporter": "python",
      "pygments_lexer": "ipython3",
      "version": "3.8"
    }
  },
  "nbformat_minor": 4,
  "nbformat": 4,
  "cells": [
    {
      "cell_type": "markdown",
      "source": "Sum of numbers in the list",
      "metadata": {}
    },
    {
      "cell_type": "code",
      "source": "list = [1,2,3,4,5]\nc= 0\nfor i in range(len(list)):\n    c = c + list[i]\nprint('The sum of numbers in the list :',c)",
      "metadata": {
        "trusted": true
      },
      "outputs": [
        {
          "name": "stdout",
          "text": "The sum of numbers in the list : 15\n",
          "output_type": "stream"
        }
      ],
      "execution_count": 4
    },
    {
      "cell_type": "markdown",
      "source": "Write a Python program to get the largest number from a list",
      "metadata": {}
    },
    {
      "cell_type": "code",
      "source": "max = list[0]\nfor i in range(len(list)):\n    if list[i] > max:\n        max = list[i]\nprint(max)",
      "metadata": {
        "trusted": true
      },
      "outputs": [
        {
          "name": "stdout",
          "text": "5\n",
          "output_type": "stream"
        }
      ],
      "execution_count": 8
    },
    {
      "cell_type": "markdown",
      "source": "Write a Python program to count the number of strings from a given list of strings. The string length is 2 or more and the first and last characters are the same\nSample List : ['abc', 'xyz', 'aba', '1221']\nExpected Result : 2",
      "metadata": {}
    },
    {
      "cell_type": "code",
      "source": "list1= ['abc', 'xyz', 'aba', '1221']\ncnt = 0\nfor word in list1:\n    if len(word) > 2 and (word[0] == word[-1]):\n        cnt = cnt + 1\n        print(word)\nprint('count of words where 1st and last letter are same is :',cnt)\n        ",
      "metadata": {
        "trusted": true
      },
      "outputs": [
        {
          "name": "stdout",
          "text": "aba\n1221\ncount of words where 1st and last letter are same is : 2\n",
          "output_type": "stream"
        }
      ],
      "execution_count": 12
    },
    {
      "cell_type": "markdown",
      "source": "enumerate",
      "metadata": {}
    },
    {
      "cell_type": "code",
      "source": "for index, num in enumerate(range(1,11)):\n    print(index,num)",
      "metadata": {
        "trusted": true
      },
      "outputs": [
        {
          "name": "stdout",
          "text": "0 1\n1 2\n2 3\n3 4\n4 5\n5 6\n6 7\n7 8\n8 9\n9 10\n",
          "output_type": "stream"
        }
      ],
      "execution_count": 2
    },
    {
      "cell_type": "markdown",
      "source": "List comprehension",
      "metadata": {}
    },
    {
      "cell_type": "code",
      "source": "[x**2 for x in range(0,10)]",
      "metadata": {
        "trusted": true
      },
      "outputs": [
        {
          "execution_count": 3,
          "output_type": "execute_result",
          "data": {
            "text/plain": "[0, 1, 4, 9, 16, 25, 36, 49, 64, 81]"
          },
          "metadata": {}
        }
      ],
      "execution_count": 3
    },
    {
      "cell_type": "code",
      "source": "# with conditional logic\n\neven = [x**2 for x in range(10) if x%2==0]\nprint(even)",
      "metadata": {
        "trusted": true
      },
      "outputs": [
        {
          "name": "stdout",
          "text": "[0, 4, 16, 36, 64]\n",
          "output_type": "stream"
        }
      ],
      "execution_count": 4
    },
    {
      "cell_type": "code",
      "source": "# 2 for loops inside list comprehension\n\na = [1,2,3]\nb = ['a','b','c']\n\ncomb = [[i,j] for i in a for j in b]\nprint(comb)",
      "metadata": {
        "trusted": true
      },
      "outputs": [
        {
          "name": "stdout",
          "text": "[[1, 'a'], [1, 'b'], [1, 'c'], [2, 'a'], [2, 'b'], [2, 'c'], [3, 'a'], [3, 'b'], [3, 'c']]\n",
          "output_type": "stream"
        }
      ],
      "execution_count": 8
    },
    {
      "cell_type": "code",
      "source": "# list comprehension with function calls\n\nlst = ['hello','good','morning']\nlenghts = [(lst[i],len(lst[i])) for i in range(len(lst))]\nprint(lenghts)",
      "metadata": {
        "trusted": true
      },
      "outputs": [
        {
          "name": "stdout",
          "text": "[('hello', 5), ('good', 4), ('morning', 7)]\n",
          "output_type": "stream"
        }
      ],
      "execution_count": 11
    },
    {
      "cell_type": "code",
      "source": "",
      "metadata": {
        "trusted": true
      },
      "outputs": [],
      "execution_count": null
    }
  ]
}