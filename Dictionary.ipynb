{
  "metadata": {
    "kernelspec": {
      "name": "python",
      "display_name": "Python (Pyodide)",
      "language": "python"
    },
    "language_info": {
      "codemirror_mode": {
        "name": "python",
        "version": 3
      },
      "file_extension": ".py",
      "mimetype": "text/x-python",
      "name": "python",
      "nbconvert_exporter": "python",
      "pygments_lexer": "ipython3",
      "version": "3.8"
    }
  },
  "nbformat_minor": 4,
  "nbformat": 4,
  "cells": [
    {
      "cell_type": "code",
      "source": "student = {}\nprint(type(student))",
      "metadata": {
        "trusted": true
      },
      "outputs": [
        {
          "name": "stdout",
          "text": "<class 'dict'>\n",
          "output_type": "stream"
        }
      ],
      "execution_count": 1
    },
    {
      "cell_type": "code",
      "source": "student = {'name':'sri','age':8,'grade':3}\nprint(student)",
      "metadata": {
        "trusted": true
      },
      "outputs": [
        {
          "name": "stdout",
          "text": "{'name': 'sri', 'age': 8, 'grade': 3}\n",
          "output_type": "stream"
        }
      ],
      "execution_count": 2
    },
    {
      "cell_type": "code",
      "source": "# duplicate keys will be replaced by the later one, keep only unique keys\nstu = {'name':'sri','age':8,'grade':3,'name':'ram'}\nprint(stu)",
      "metadata": {
        "trusted": true
      },
      "outputs": [
        {
          "name": "stdout",
          "text": "{'name': 'ram', 'age': 8, 'grade': 3}\n",
          "output_type": "stream"
        }
      ],
      "execution_count": 3
    },
    {
      "cell_type": "code",
      "source": "# accessing dictionary\nstu['name']",
      "metadata": {
        "trusted": true
      },
      "outputs": [
        {
          "execution_count": 4,
          "output_type": "execute_result",
          "data": {
            "text/plain": "'ram'"
          },
          "metadata": {}
        }
      ],
      "execution_count": 4
    },
    {
      "cell_type": "code",
      "source": "print(stu.get('grade'))",
      "metadata": {
        "trusted": true
      },
      "outputs": [
        {
          "name": "stdout",
          "text": "3\n",
          "output_type": "stream"
        }
      ],
      "execution_count": 5
    },
    {
      "cell_type": "code",
      "source": "#modifying dictionary\nstu['name'] = 'sriram'\nstu",
      "metadata": {
        "trusted": true
      },
      "outputs": [
        {
          "execution_count": 6,
          "output_type": "execute_result",
          "data": {
            "text/plain": "{'name': 'sriram', 'age': 8, 'grade': 3}"
          },
          "metadata": {}
        }
      ],
      "execution_count": 6
    },
    {
      "cell_type": "code",
      "source": "#shallow copy\nstu1=stu\nstu['name'] = 'sriram1'\nprint(stu)\nprint(stu1)\n# since in both the dictionaries the name is changed, we need to use copy method",
      "metadata": {
        "trusted": true
      },
      "outputs": [
        {
          "name": "stdout",
          "text": "{'name': 'sriram1', 'age': 8, 'grade': 3}\n{'name': 'sriram1', 'age': 8, 'grade': 3}\n",
          "output_type": "stream"
        }
      ],
      "execution_count": 8
    },
    {
      "cell_type": "code",
      "source": "stu3 = stu.copy()\nprint(stu)\nstu['name'] = 'sriram3'\nprint(stu)\n",
      "metadata": {
        "trusted": true
      },
      "outputs": [
        {
          "name": "stdout",
          "text": "{'name': 'sriram2', 'age': 8, 'grade': 3}\n{'name': 'sriram3', 'age': 8, 'grade': 3}\n",
          "output_type": "stream"
        }
      ],
      "execution_count": 14
    },
    {
      "cell_type": "code",
      "source": "print(stu3)",
      "metadata": {
        "trusted": true
      },
      "outputs": [
        {
          "name": "stdout",
          "text": "{'name': 'sriram2', 'age': 8, 'grade': 3}\n",
          "output_type": "stream"
        }
      ],
      "execution_count": 15
    },
    {
      "cell_type": "markdown",
      "source": "Dictionary methods",
      "metadata": {}
    },
    {
      "cell_type": "code",
      "source": "stu.keys()",
      "metadata": {
        "trusted": true
      },
      "outputs": [
        {
          "execution_count": 16,
          "output_type": "execute_result",
          "data": {
            "text/plain": "dict_keys(['name', 'age', 'grade'])"
          },
          "metadata": {}
        }
      ],
      "execution_count": 16
    },
    {
      "cell_type": "code",
      "source": "stu.values()",
      "metadata": {
        "trusted": true
      },
      "outputs": [
        {
          "execution_count": 17,
          "output_type": "execute_result",
          "data": {
            "text/plain": "dict_values(['sriram3', 8, 3])"
          },
          "metadata": {}
        }
      ],
      "execution_count": 17
    },
    {
      "cell_type": "code",
      "source": "for key,val in stu.items():\n    print(f'{key}:{val}')",
      "metadata": {
        "trusted": true
      },
      "outputs": [
        {
          "name": "stdout",
          "text": "name:sriram3\nage:8\ngrade:3\n",
          "output_type": "stream"
        }
      ],
      "execution_count": 19
    },
    {
      "cell_type": "markdown",
      "source": "Nested dictionaries",
      "metadata": {}
    },
    {
      "cell_type": "code",
      "source": "student = {\n    'student1':{'name':'sri','age':8,'grade':3},\n    'student2':{'name':'krish','age':18,'grade':12}\n}\n#print(student)\nprint(student['student1']['grade'])",
      "metadata": {
        "trusted": true
      },
      "outputs": [
        {
          "name": "stdout",
          "text": "3\n",
          "output_type": "stream"
        }
      ],
      "execution_count": 24
    },
    {
      "cell_type": "code",
      "source": "for stu,stu_info in student.items():\n    print(f'{stu}:{stu_info}')\n    for key,val in stu_info.items():\n        print(f'{key}:{val}')",
      "metadata": {
        "trusted": true
      },
      "outputs": [
        {
          "name": "stdout",
          "text": "student1:{'name': 'sri', 'age': 8, 'grade': 3}\nname:sri\nage:8\ngrade:3\nstudent2:{'name': 'krish', 'age': 18, 'grade': 12}\nname:krish\nage:18\ngrade:12\n",
          "output_type": "stream"
        }
      ],
      "execution_count": 28
    },
    {
      "cell_type": "markdown",
      "source": "Dictionary comprehension",
      "metadata": {}
    },
    {
      "cell_type": "code",
      "source": "squares = {x:x**2 for x in range(10) if x%2==0}\nprint(squares)",
      "metadata": {
        "trusted": true
      },
      "outputs": [
        {
          "name": "stdout",
          "text": "{0: 0, 2: 4, 4: 16, 6: 36, 8: 64}\n",
          "output_type": "stream"
        }
      ],
      "execution_count": 30
    },
    {
      "cell_type": "code",
      "source": "# find freqency of numbers in the list\n\nnumbers = [1,2,4,2,3,3,5,5,3,4,4,8,8,8,8,8,4,7,7]\nfreq = {}\nfor num in numbers:\n    if num in freq:\n        freq[num]+=1  # freq[num] is the key , =1 is we assign value to the key, \n        #if it is present in freq then we increment the value\n    else:\n        freq[num] = 1\nprint(freq)",
      "metadata": {
        "trusted": true
      },
      "outputs": [
        {
          "name": "stdout",
          "text": "{1: 1, 2: 2, 4: 4, 3: 3, 5: 2, 8: 5, 7: 2}\n",
          "output_type": "stream"
        }
      ],
      "execution_count": 33
    },
    {
      "cell_type": "markdown",
      "source": "Merge dictionaries",
      "metadata": {}
    },
    {
      "cell_type": "code",
      "source": "dic1= {'a':1,'b':2}\ndic2 = {'c':1,'d':2}\nmerge_dic = {**dic1,**dic2}\nprint(merge_dic)",
      "metadata": {
        "trusted": true
      },
      "outputs": [
        {
          "name": "stdout",
          "text": "{'a': 1, 'b': 2, 'c': 1, 'd': 2}\n",
          "output_type": "stream"
        }
      ],
      "execution_count": 35
    },
    {
      "cell_type": "code",
      "source": "",
      "metadata": {
        "trusted": true
      },
      "outputs": [],
      "execution_count": null
    }
  ]
}