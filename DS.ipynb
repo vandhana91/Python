{
  "metadata": {
    "kernelspec": {
      "name": "python",
      "display_name": "Python (Pyodide)",
      "language": "python"
    },
    "language_info": {
      "codemirror_mode": {
        "name": "python",
        "version": 3
      },
      "file_extension": ".py",
      "mimetype": "text/x-python",
      "name": "python",
      "nbconvert_exporter": "python",
      "pygments_lexer": "ipython3",
      "version": "3.8"
    }
  },
  "nbformat_minor": 4,
  "nbformat": 4,
  "cells": [
    {
      "cell_type": "markdown",
      "source": "Linear search",
      "metadata": {}
    },
    {
      "cell_type": "markdown",
      "source": "Linear search searches all the elements in the array, it the value is there it prints the index of it",
      "metadata": {}
    },
    {
      "cell_type": "code",
      "source": "arr = [1,2,3,4,5]\nx = 5\nfor i in range(0,len(arr)):\n    if arr[i] == x:\n        print(i)\n        break\nelse:\n    print('element is not present in the array')",
      "metadata": {
        "trusted": true
      },
      "outputs": [
        {
          "name": "stdout",
          "text": "4\n",
          "output_type": "stream"
        }
      ],
      "execution_count": 3
    },
    {
      "cell_type": "markdown",
      "source": "Bubble sort\n\ncheck the neighbouring elements, if it is in order[if 1st element > 2nd element], then it will swap the elements",
      "metadata": {}
    },
    {
      "cell_type": "code",
      "source": "arr = [3,2,6,7,1]\nfor i in range(0,len(arr) - 1):\n    for j in range(0,len(arr) - 1):\n        if (arr[j] > arr[j+1]):\n            arr[j],arr[j+1] = arr[j+1],arr[j]\nprint(arr)",
      "metadata": {
        "trusted": true
      },
      "outputs": [
        {
          "name": "stdout",
          "text": "[1, 2, 3, 6, 7]\n",
          "output_type": "stream"
        }
      ],
      "execution_count": 3
    },
    {
      "cell_type": "markdown",
      "source": "Selection Sort\n\nstore the 1st in index value in a variable, compare the rest of the elements with this element and swap it",
      "metadata": {}
    },
    {
      "cell_type": "code",
      "source": "arr = [3,1,7,5,2]\nfor pos in range(len(arr) - 1):\n    min = pos\n    for i in range(pos + 1,len(arr)):\n    \n        if arr[min] > arr[i]:\n            min = i\n    arr[min],arr[pos] = arr[pos],arr[min]\nprint(arr)",
      "metadata": {
        "trusted": true
      },
      "outputs": [
        {
          "name": "stdout",
          "text": "[1, 2, 3, 5, 7]\n",
          "output_type": "stream"
        }
      ],
      "execution_count": 5
    },
    {
      "cell_type": "markdown",
      "source": "Insertion sort\n\nconsider sorted and unsorted array\nStore the 1st index in temp variable, compare that element with 0th index, if it is lesser swap it,\nthen take 2nd index,  compare with 1 and 0 index, then swap it",
      "metadata": {}
    },
    {
      "cell_type": "code",
      "source": "arr = [7,3,2,8,6,4]\nfor i in range(1,len(arr)):\n    # store 1st index in temp, temp = 3\n    temp = arr[i]\n    j = i - 1  # pointing to 0th index\n    while j >=0 and temp < arr[j]: # comparing 0th and 1st index and j>= 0\n        arr[j+1] = arr[j] # if true, 1st index will have value as 7 , [7,7,2,8,6,4]\n        j = j - 1  # decrementing j by 1, j = -1\n    arr[j+1] = temp  # arr[-1+1] = temp, in arr[0] = 3 will be the value [3,7,2,8,6,4]\nprint(arr)",
      "metadata": {
        "trusted": true
      },
      "outputs": [
        {
          "name": "stdout",
          "text": "[2, 3, 4, 6, 7, 8]\n",
          "output_type": "stream"
        }
      ],
      "execution_count": 7
    },
    {
      "cell_type": "markdown",
      "source": "Merge sort",
      "metadata": {}
    },
    {
      "cell_type": "code",
      "source": "def mergesort(arr):\n    if len(arr) > 1:\n        mid = len(arr)//2\n        left = arr[:mid]\n        right = arr[mid:]\n        mergesort(left)\n        mergesort(right)\n        lp = 0\n        rp = 0\n        np = 0\n        while lp < len(left) and rp < len(right):\n            if left[lp] < right[rp]:\n                arr[np] = left[lp]\n                lp+=1\n            else:\n                arr[np] = right[rp]\n                rp+=1\n            np+=1\n        while lp < len(left):\n            arr[np] = left[lp]\n            np+=1\n            lp+=1\n        while rp < len(right):\n            arr[np] = right[rp]\n            np+=1\n            rp+=1\narr = [3,1,7,5,9,2]\nprint('Before Sorting ',arr)\nmergesort(arr)\nprint('After Sorting ',arr)",
      "metadata": {
        "trusted": true
      },
      "outputs": [
        {
          "name": "stdout",
          "text": "Before Sorting  [3, 1, 7, 5, 9, 2]\nAfter Sorting  [1, 2, 3, 5, 7, 9]\n",
          "output_type": "stream"
        }
      ],
      "execution_count": 6
    },
    {
      "cell_type": "markdown",
      "source": "Quick sort",
      "metadata": {}
    },
    {
      "cell_type": "code",
      "source": "import random\ndef quicksort(arr):\n    if len(arr) <=1:\n        return arr\n    pivot = random.choice(arr)\n    left = [i for i in arr if i < pivot]\n    right = [i for i in arr if i > pivot]\n    middle = [i for i in arr if i == pivot]\n    \n    return quicksort(left) + middle + quicksort(right)\n\narr = [6,2,8,10,5,9,1]\nprint('Before Sort :',arr)\nprint('After Sort :', quicksort(arr))",
      "metadata": {
        "trusted": true
      },
      "outputs": [
        {
          "name": "stdout",
          "text": "Before Sort : [6, 2, 8, 10, 5, 9, 1]\nAfter Sort : [1, 2, 5, 6, 8, 9, 10]\n",
          "output_type": "stream"
        }
      ],
      "execution_count": 3
    },
    {
      "cell_type": "code",
      "source": "",
      "metadata": {
        "trusted": true
      },
      "outputs": [],
      "execution_count": null
    }
  ]
}